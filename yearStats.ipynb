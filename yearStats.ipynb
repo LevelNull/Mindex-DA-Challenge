{
 "cells": [
  {
   "attachments": {},
   "cell_type": "markdown",
   "id": "4a5f5317",
   "metadata": {},
   "source": [
    "### Notes\n",
    "I would normally use a configuration file, environment variables, or command-line arguments for the variables in the \"Credentials\" cell. However, given the format of the exercise, I feel just having the variables integrated in the notebook in their own cell is the simplest for everyone involved."
   ]
  },
  {
   "cell_type": "code",
   "execution_count": 1,
   "id": "67980fc6",
   "metadata": {},
   "outputs": [],
   "source": [
    "# Imports\n",
    "import os, json\n",
    "import pandas"
   ]
  },
  {
   "cell_type": "code",
   "execution_count": null,
   "id": "06347b1c",
   "metadata": {},
   "outputs": [],
   "source": [
    "# Credentials\n",
    "aws_access_key=\"\"\n",
    "aws_secret_key=\"\"\n",
    "aws_s3_bucket=\"\"\n",
    "postgres_host=\"\"\n",
    "postgres_port=5432\n",
    "postgres_user=\"\"\n",
    "postgres_password=\"\"\n",
    "postgres_database=\"postgres\"\n",
    "postgres_table=\"\""
   ]
  }
 ],
 "metadata": {
  "kernelspec": {
   "display_name": "Python 3 (ipykernel)",
   "language": "python",
   "name": "python3"
  },
  "language_info": {
   "codemirror_mode": {
    "name": "ipython",
    "version": 3
   },
   "file_extension": ".py",
   "mimetype": "text/x-python",
   "name": "python",
   "nbconvert_exporter": "python",
   "pygments_lexer": "ipython3",
   "version": "3.10.6"
  }
 },
 "nbformat": 4,
 "nbformat_minor": 5
}
